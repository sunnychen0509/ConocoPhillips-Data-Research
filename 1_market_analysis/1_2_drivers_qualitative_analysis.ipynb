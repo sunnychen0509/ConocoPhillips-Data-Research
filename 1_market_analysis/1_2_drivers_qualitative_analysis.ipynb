{
 "cells": [
  {
   "cell_type": "markdown",
   "metadata": {},
   "source": [
    "# Ammonia - Drivers and Qualitative Analysis\n",
    "\n",
    "Supply-Side Drivers\n",
    "- **Natural Gas prices** significantly impact the cost of ammonia production. Availibility is based on geopolitical tensions and natural disasters.\n",
    "- **Production Capacity**: Construction of new ammonia plants = more supply capacity. Shutdowns of existing plants reduce supply.\n",
    "- **Tech Advancements** can increase efficiency, which decrease production costs and increase output. Development of alternative methods such as electrochemical processes or green ammonia from renewable energy sources can diversify supply sources.\n",
    "- **Stricter Environmental Regulations** can increase production costs and decrease output. Government policies promoting cleaner production methods can affect supply dynamics.\n",
    "- **Export and Import Restrictions/Changes** impact ammonia trade. Changes in freight and logistics costs influence the overall supply chain.\n",
    "\n",
    "Demand-Side Drivers\n",
    "- **Agricultural Demand**: Ammonia is a key ingredient in nitrogen-based fertilizers. Seasonal agricultural cycles and crop prices significantly affect demand. Rising global population increases demand for food, subsequently driving demand for fertilizers. Urbanization trends can shift agricultural practices and influence demand.\n",
    "- **Food augmentation government programs** can drive demand for fertilizers and ammonia.\n",
    "- **Chemical Manufacturing**: Ammonia is used to produce various chemicals such as nitric acid, urea, and ammonium nitrate.\n",
    "- **Refrigeration**: Ammonia is used as a refrigerant in industrial applications, particularly in food storage and processing.\n",
    "- **Pollution Control**: Ammonia is used in flue gas desulfurization and other pollution control technologies. Higher pollution rates = higher demand for ammonia.\n",
    "- **Renewable Energy Storage**: Emerging technologies use ammonia as a medium for hydrogen storage and transportation, potentially increasing demand.\n",
    "- **General Economic Conditions**: General economic growth increases industrial activity and agricultural production, boosting demand for ammonia. Prices of related commodities (e.g., oil, natural gas) impact production costs and demand.\n",
    "- **New Applications**: Research and development in new applications for ammonia can create additional demand streams.\n",
    "\n",
    "Qualitative Market Analysis\n",
    "- **Moderate production costs** and established demand in the fertilizer market.\n",
    "- **Relatively lower market price** compared to methanol and e-fuels.\n",
    "- **Moderate infrastructure investment** with potential for maritime fuel use.\n",
    "- **Profitability**: Medium, with stable market and moderate production costs.\n",
    "- [Additional Statista Forecast of Green Ammonia Prices from 2019-2030](https://www.statista.com/statistics/1350276/green-ammonia-global-market-size/)"
   ]
  },
  {
   "cell_type": "markdown",
   "metadata": {},
   "source": [
    "# Methanol - Drivers and Qualitative Analysis\n",
    "\n",
    "Supply-Side Drivers\n",
    "- **Natural Gas Prices** significantly impact the cost of methanol. Lower natural gas prices = lower production costs = increase supply\n",
    "- **Crude Oil Prices**: Crude oil is an alternative feedstock. Higher crude oil prices can make methanol more attractive, which could increase production and supply.\n",
    "- **Tech Advancements** can increase efficiency, which decrease production costs and increase output.\n",
    "- **Production Capacity**: Construction of new methanol plants = more supply capacity. Shutdowns of existing plants reduce supply.\n",
    "- **Stricter Environmental Regulations** can increase production costs and decrease output. Government policies promoting cleaner production methods can affect supply dynamics.\n",
    "- **Raw Material Availability**: The availability of feedstocks like natural gas and coal is crucial for methanol production.\n",
    "\n",
    "Demand-Side Drivers\n",
    "- **Industrial Demand**: Methanol is used in the production of formaldehyde, acetic acid, and other chemicals, influencing its demand based on industrial activity.\n",
    "- **Fuel Applications/Automotive Industry Demand**: Methanol can be used directly as a fuel or as a feedstock for producing biodiesel and MTBE (methyl tert-butyl ether). The demand for alternative fuels can drive methanol demand. Methanol is also used in internal combustion engines and as a hydrogen carrier for fuel cells, impacting demand based on trends in the automotive industry.\n",
    "- **Energy Sector**: Demand for methanol as an energy source, including its use in fuel cells and power generation, can influence overall demand.\n",
    "- **Environmental Regulations**: Regulations promoting cleaner fuels and reducing carbon emissions can increase methanol demand as a low-emission fuel.\n",
    "- **Substitute Availability**: The availability and cost of alternative chemicals and fuels can affect methanol demand.\n",
    "- **Technological Advancements**: Developments in methanol-based technologies, such as methanol-to-olefins (MTO) processes, can create new demand sources.\n",
    "- **Government Policies**: Policies promoting the use of methanol in various applications, such as transportation and energy, can drive demand.\n",
    "\n",
    "Qualitative Market Analysis\n",
    "- **Moderate to high production costs** but significant demand in chemical and fuel markets.\n",
    "- **Moderate market price** with potential for green premium.\n",
    "- **High infrastructure investment** needed.\n",
    "- **Profitability**: Medium to high, driven by growing demand and premium pricing for green methanol."
   ]
  },
  {
   "cell_type": "markdown",
   "metadata": {},
   "source": [
    "# E-Fuels - Drivers and Qualitative Analysis\n",
    "\n",
    "Supply-Side Drivers\n",
    "- **Technological Advancements**: Improved efficiency and cost-effectiveness of electrolyzers (Electrolysis), enhanced methods for capturing CO2 from the air or industrial processes (CO2 Capture), and innovations in chemical processes to synthesize hydrocarbons from hydrogen and CO2 (Synthesis Process) can all decrease production costs and increase supply.\n",
    "- **Renewable Energy Availability**: Increased capacity and lower costs of renewable energy sources (e.g., wind, solar) to provide the necessary electricity for e-fuel production.\n",
    "- **Grid Integration**: Development of infrastructure to integrate and distribute renewable energy effectively will increase supply.\n",
    "- **Government Support**: Subsidies, grants, and tax incentives for e-fuel production and R&D would increase supply.\n",
    "- **Private Sector Investment**: Increasing interest and investment from private companies and venture capital would increase supply.\n",
    "\n",
    "Demand-Side Drivers\n",
    "- **Decarbonization Goals**: Companies committing to reduce their carbon footprints and adopting sustainable practices would increase demand for green e-fuels.\n",
    "- **Sector-Specific Needs**:\n",
    "    - **Aviation**: Airlines seeking low-carbon fuel alternatives to meet regulatory and consumer pressures.\n",
    "    - **Maritime**: Shipping companies looking for sustainable fuels to comply with international maritime regulations.\n",
    "    - **Heavy Industry**: Industrial sectors requiring high-temperature processes that are difficult to electrify.\n",
    "- **Fossil Fuel Prices**: Volatility in oil and gas prices can drive demand for stable-priced e-fuels.\n",
    "- **Cost Competitiveness**: As e-fuels become more cost-competitive with conventional fuels, demand is likely to increase.\n",
    "- **Global Agreements**: International agreements on climate change and sustainability promoting the adoption of e-fuels.\n",
    "- **Cross-Border Trade**: International trade policies facilitating the export and import of e-fuels.\n",
    "\n",
    "Qualitative Market Analysis\n",
    "- **High production costs** with potential to decrease as technology matures.\n",
    "- **High market price** due to premium sustainability benefits.\n",
    "- **Very high infrastructure investment** needed.\n",
    "- **Profitability**: High potential long-term, especially in hard-to-electrify sectors, but currently limited by high costs and infrastructure needs."
   ]
  }
 ],
 "metadata": {
  "language_info": {
   "name": "python"
  }
 },
 "nbformat": 4,
 "nbformat_minor": 2
}

{
 "cells": [
  {
   "cell_type": "markdown",
   "metadata": {},
   "source": [
    "# Final Conclusions\n",
    "### Methanol:\n",
    "Offers a balanced approach with moderate production costs, growing market demand, and favorable regulatory support. Suitable for companies looking for a stable market with near-term returns.\n",
    "\n",
    "### Ammonia: \n",
    "Promising for companies focusing on the marine sector or leveraging existing infrastructure in fertilizers, despite handling challenges.\n",
    "\n",
    "### E-Fuels:\n",
    "Best for companies with a long-term vision and the capability to invest in emerging technologies and infrastructure, targeting hard-to-electrify (hard-to-abate/HTA; manufacturing, transportation, etc.) sectors.\n"
   ]
  },
  {
   "cell_type": "markdown",
   "metadata": {},
   "source": []
  }
 ],
 "metadata": {
  "language_info": {
   "name": "python"
  }
 },
 "nbformat": 4,
 "nbformat_minor": 2
}
